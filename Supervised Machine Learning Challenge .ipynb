{
 "cells": [
  {
   "cell_type": "code",
   "execution_count": 1,
   "id": "82cb76b9",
   "metadata": {},
   "outputs": [],
   "source": [
    "#prediction task is to determine whether or not target is high risk or low risk\n",
    "\n",
    "import pandas as pd\n",
    "from sklearn.model_selection import train_test_split\n",
    "from sklearn.preprocessing import StandardScaler, MinMaxScaler, LabelEncoder\n",
    "import numpy as np"
   ]
  },
  {
   "cell_type": "code",
   "execution_count": 2,
   "id": "5e049078",
   "metadata": {},
   "outputs": [],
   "source": [
    "train = pd.read_csv('Instructions/Resources/Generator/2019loans.csv')\n",
    "test = pd.read_csv('Instructions/Resources/Generator/2020Q1loans.csv')"
   ]
  },
  {
   "cell_type": "code",
   "execution_count": 3,
   "id": "8f70731a",
   "metadata": {},
   "outputs": [],
   "source": [
    "test_2020 = test.drop(columns=['target'])"
   ]
  },
  {
   "cell_type": "code",
   "execution_count": 4,
   "id": "6b4a0868",
   "metadata": {},
   "outputs": [],
   "source": [
    "train_2019 = train.drop(columns=['target'])"
   ]
  },
  {
   "cell_type": "code",
   "execution_count": 5,
   "id": "cc120609",
   "metadata": {},
   "outputs": [],
   "source": [
    "X = train_2019"
   ]
  },
  {
   "cell_type": "code",
   "execution_count": 46,
   "id": "45ba975e",
   "metadata": {},
   "outputs": [
    {
     "name": "stdout",
     "output_type": "stream",
     "text": [
      "Index(['loan_amnt', 'int_rate', 'installment', 'annual_inc', 'dti',\n",
      "       'delinq_2yrs', 'inq_last_6mths', 'open_acc', 'pub_rec', 'revol_bal',\n",
      "       'total_acc', 'out_prncp', 'out_prncp_inv', 'total_pymnt',\n",
      "       'total_pymnt_inv', 'total_rec_prncp', 'total_rec_int',\n",
      "       'total_rec_late_fee', 'recoveries', 'collection_recovery_fee',\n",
      "       'last_pymnt_amnt', 'collections_12_mths_ex_med', 'policy_code',\n",
      "       'acc_now_delinq', 'tot_coll_amt', 'tot_cur_bal', 'open_acc_6m',\n",
      "       'open_act_il', 'open_il_12m', 'open_il_24m', 'mths_since_rcnt_il',\n",
      "       'total_bal_il', 'il_util', 'open_rv_12m', 'open_rv_24m', 'max_bal_bc',\n",
      "       'all_util', 'total_rev_hi_lim', 'inq_fi', 'total_cu_tl', 'inq_last_12m',\n",
      "       'acc_open_past_24mths', 'avg_cur_bal', 'bc_open_to_buy', 'bc_util',\n",
      "       'chargeoff_within_12_mths', 'delinq_amnt', 'mo_sin_old_il_acct',\n",
      "       'mo_sin_old_rev_tl_op', 'mo_sin_rcnt_rev_tl_op', 'mo_sin_rcnt_tl',\n",
      "       'mort_acc', 'mths_since_recent_bc', 'mths_since_recent_inq',\n",
      "       'num_accts_ever_120_pd', 'num_actv_bc_tl', 'num_actv_rev_tl',\n",
      "       'num_bc_sats', 'num_bc_tl', 'num_il_tl', 'num_op_rev_tl',\n",
      "       'num_rev_accts', 'num_rev_tl_bal_gt_0', 'num_sats', 'num_tl_120dpd_2m',\n",
      "       'num_tl_30dpd', 'num_tl_90g_dpd_24m', 'num_tl_op_past_12m',\n",
      "       'pct_tl_nvr_dlq', 'percent_bc_gt_75', 'pub_rec_bankruptcies',\n",
      "       'tax_liens', 'tot_hi_cred_lim', 'total_bal_ex_mort', 'total_bc_limit',\n",
      "       'total_il_high_credit_limit', 'home_ownership_ANY',\n",
      "       'home_ownership_MORTGAGE', 'home_ownership_OWN', 'home_ownership_RENT',\n",
      "       'verification_status_Not Verified',\n",
      "       'verification_status_Source Verified', 'verification_status_Verified',\n",
      "       'pymnt_plan_n', 'initial_list_status_f', 'initial_list_status_w',\n",
      "       'application_type_Individual', 'application_type_Joint App',\n",
      "       'hardship_flag_N', 'hardship_flag_Y', 'debt_settlement_flag_N'],\n",
      "      dtype='object')\n"
     ]
    }
   ],
   "source": [
    "X2 = test_2020 \n",
    "X2_dummies = pd.get_dummies(X2)\n",
    "X2_columns = X2_dummies.columns\n",
    "print(X2_columns)"
   ]
  },
  {
   "cell_type": "code",
   "execution_count": 47,
   "id": "c5d8207a",
   "metadata": {},
   "outputs": [
    {
     "name": "stdout",
     "output_type": "stream",
     "text": [
      "Index(['loan_amnt', 'int_rate', 'installment', 'annual_inc', 'dti',\n",
      "       'delinq_2yrs', 'inq_last_6mths', 'open_acc', 'pub_rec', 'revol_bal',\n",
      "       'total_acc', 'out_prncp', 'out_prncp_inv', 'total_pymnt',\n",
      "       'total_pymnt_inv', 'total_rec_prncp', 'total_rec_int',\n",
      "       'total_rec_late_fee', 'recoveries', 'collection_recovery_fee',\n",
      "       'last_pymnt_amnt', 'collections_12_mths_ex_med', 'policy_code',\n",
      "       'acc_now_delinq', 'tot_coll_amt', 'tot_cur_bal', 'open_acc_6m',\n",
      "       'open_act_il', 'open_il_12m', 'open_il_24m', 'mths_since_rcnt_il',\n",
      "       'total_bal_il', 'il_util', 'open_rv_12m', 'open_rv_24m', 'max_bal_bc',\n",
      "       'all_util', 'total_rev_hi_lim', 'inq_fi', 'total_cu_tl', 'inq_last_12m',\n",
      "       'acc_open_past_24mths', 'avg_cur_bal', 'bc_open_to_buy', 'bc_util',\n",
      "       'chargeoff_within_12_mths', 'delinq_amnt', 'mo_sin_old_il_acct',\n",
      "       'mo_sin_old_rev_tl_op', 'mo_sin_rcnt_rev_tl_op', 'mo_sin_rcnt_tl',\n",
      "       'mort_acc', 'mths_since_recent_bc', 'mths_since_recent_inq',\n",
      "       'num_accts_ever_120_pd', 'num_actv_bc_tl', 'num_actv_rev_tl',\n",
      "       'num_bc_sats', 'num_bc_tl', 'num_il_tl', 'num_op_rev_tl',\n",
      "       'num_rev_accts', 'num_rev_tl_bal_gt_0', 'num_sats', 'num_tl_120dpd_2m',\n",
      "       'num_tl_30dpd', 'num_tl_90g_dpd_24m', 'num_tl_op_past_12m',\n",
      "       'pct_tl_nvr_dlq', 'percent_bc_gt_75', 'pub_rec_bankruptcies',\n",
      "       'tax_liens', 'tot_hi_cred_lim', 'total_bal_ex_mort', 'total_bc_limit',\n",
      "       'total_il_high_credit_limit', 'home_ownership_ANY',\n",
      "       'home_ownership_MORTGAGE', 'home_ownership_OWN', 'home_ownership_RENT',\n",
      "       'verification_status_Not Verified',\n",
      "       'verification_status_Source Verified', 'verification_status_Verified',\n",
      "       'pymnt_plan_n', 'initial_list_status_f', 'initial_list_status_w',\n",
      "       'application_type_Individual', 'application_type_Joint App',\n",
      "       'hardship_flag_N', 'hardship_flag_Y', 'debt_settlement_flag_N',\n",
      "       'debt_settlement_flag_Y'],\n",
      "      dtype='object')\n",
      "['debt_settlement_flag_Y']\n"
     ]
    }
   ],
   "source": [
    "X_dummies = pd.get_dummies(X)\n",
    "print(X_dummies.columns)\n",
    "X_dummies\n",
    "uncommon_cat = []\n",
    "for cat in X_dummies: \n",
    "    if cat not in X2_dummies:\n",
    "        uncommon_cat.append(cat)\n",
    "print(uncommon_cat)"
   ]
  },
  {
   "cell_type": "code",
   "execution_count": 48,
   "id": "c3e03717",
   "metadata": {},
   "outputs": [
    {
     "name": "stdout",
     "output_type": "stream",
     "text": [
      "cflag =\n"
     ]
    }
   ],
   "source": [
    "#checking on the dropped column\n",
    "X_dummies = X_dummies.drop(columns = 'debt_settlement_flag_Y')\n",
    "dflag = X_dummies['debt_settlement_flag_N']\n",
    "cflag = ''\n",
    "for i in dflag: \n",
    "    if i == '0': \n",
    "        cflag.append(i)\n",
    "print(f'cflag ={cflag}')"
   ]
  },
  {
   "cell_type": "code",
   "execution_count": 49,
   "id": "b47c57b9",
   "metadata": {},
   "outputs": [
    {
     "data": {
      "text/plain": [
       "0         low_risk\n",
       "1         low_risk\n",
       "2         low_risk\n",
       "3         low_risk\n",
       "4         low_risk\n",
       "           ...    \n",
       "12175    high_risk\n",
       "12176    high_risk\n",
       "12177    high_risk\n",
       "12178    high_risk\n",
       "12179    high_risk\n",
       "Name: target, Length: 12180, dtype: object"
      ]
     },
     "execution_count": 49,
     "metadata": {},
     "output_type": "execute_result"
    }
   ],
   "source": [
    "y_train = train['target']\n",
    "y_train"
   ]
  },
  {
   "cell_type": "code",
   "execution_count": 50,
   "id": "8f484505",
   "metadata": {},
   "outputs": [
    {
     "data": {
      "text/plain": [
       "0        low_risk\n",
       "1        low_risk\n",
       "2        low_risk\n",
       "3        low_risk\n",
       "4        low_risk\n",
       "          ...    \n",
       "4697    high_risk\n",
       "4698    high_risk\n",
       "4699    high_risk\n",
       "4700    high_risk\n",
       "4701    high_risk\n",
       "Name: target, Length: 4702, dtype: object"
      ]
     },
     "execution_count": 50,
     "metadata": {},
     "output_type": "execute_result"
    }
   ],
   "source": [
    "y_test = test['target']\n",
    "y_test"
   ]
  },
  {
   "cell_type": "code",
   "execution_count": 51,
   "id": "bc1180ed",
   "metadata": {},
   "outputs": [],
   "source": [
    "# X_train2019, X_test2019, y_train2019, y_test2019 = train_test_split(X_dummies, y_label, random_state=1)\n",
    "# no split needed "
   ]
  },
  {
   "cell_type": "code",
   "execution_count": 52,
   "id": "6a1fa1e6",
   "metadata": {},
   "outputs": [
    {
     "data": {
      "text/plain": [
       "array([[-1.00869871,  0.91961977, -0.85042027, ...,  0.16843038,\n",
       "        -0.16843038,  0.02026518],\n",
       "       [ 2.22409871,  0.38717869,  1.60261212, ...,  0.16843038,\n",
       "        -0.16843038,  0.02026518],\n",
       "       [-0.61684447,  1.2257734 , -0.71936772, ...,  0.16843038,\n",
       "        -0.16843038,  0.02026518],\n",
       "       ...,\n",
       "       [-1.3417748 ,  0.85876936, -1.27703164, ...,  0.16843038,\n",
       "        -0.16843038,  0.02026518],\n",
       "       [-0.22499024, -1.00667601, -0.10257157, ...,  0.16843038,\n",
       "        -0.16843038,  0.02026518],\n",
       "       [-0.22499024,  0.69143074,  0.11792955, ...,  0.16843038,\n",
       "        -0.16843038,  0.02026518]])"
      ]
     },
     "execution_count": 52,
     "metadata": {},
     "output_type": "execute_result"
    }
   ],
   "source": [
    "scaler = StandardScaler().fit(X_dummies)\n",
    "X_train_2019scaled = scaler.transform(X_dummies)\n",
    "X_test_2020scaled = scaler.transform(X2_dummies)\n",
    "X_train_2019scaled"
   ]
  },
  {
   "cell_type": "code",
   "execution_count": 53,
   "id": "4afb7774",
   "metadata": {},
   "outputs": [
    {
     "data": {
      "text/plain": [
       "LogisticRegression(random_state=1)"
      ]
     },
     "execution_count": 53,
     "metadata": {},
     "output_type": "execute_result"
    }
   ],
   "source": [
    "from sklearn.linear_model import LogisticRegression \n",
    "classifier = LogisticRegression(random_state=1)\n",
    "classifier"
   ]
  },
  {
   "cell_type": "code",
   "execution_count": 54,
   "id": "c0e6f314",
   "metadata": {},
   "outputs": [
    {
     "name": "stderr",
     "output_type": "stream",
     "text": [
      "/Users/Vanga/opt/anaconda3/envs/PythonData/lib/python3.8/site-packages/sklearn/linear_model/_logistic.py:763: ConvergenceWarning: lbfgs failed to converge (status=1):\n",
      "STOP: TOTAL NO. of ITERATIONS REACHED LIMIT.\n",
      "\n",
      "Increase the number of iterations (max_iter) or scale the data as shown in:\n",
      "    https://scikit-learn.org/stable/modules/preprocessing.html\n",
      "Please also refer to the documentation for alternative solver options:\n",
      "    https://scikit-learn.org/stable/modules/linear_model.html#logistic-regression\n",
      "  n_iter_i = _check_optimize_result(\n"
     ]
    },
    {
     "data": {
      "text/plain": [
       "0.7108374384236453"
      ]
     },
     "execution_count": 54,
     "metadata": {},
     "output_type": "execute_result"
    }
   ],
   "source": [
    "classifier.fit(X_train_2019scaled, y_train)\n",
    "classifier.score(X_train_2019scaled, y_train)"
   ]
  },
  {
   "cell_type": "markdown",
   "id": "40632f5d",
   "metadata": {},
   "source": [
    "PREDICTION: \n",
    "\n",
    "There are multiple categorical variables because of \"get_dummies\" so I think that will provide the Logistic Regression model with a lot of useful training data, which may help it perform better than the Random Forest Classifier. "
   ]
  },
  {
   "cell_type": "code",
   "execution_count": 55,
   "id": "f32b105a",
   "metadata": {},
   "outputs": [
    {
     "name": "stdout",
     "output_type": "stream",
     "text": [
      "Training Data Score: 0.7108374384236453\n",
      "Testing Data Score: 0.7596767333049766\n"
     ]
    }
   ],
   "source": [
    "print(f\"Training Data Score: {classifier.score(X_train_2019scaled, y_train)}\")\n",
    "print(f\"Testing Data Score: {classifier.score(X_test_2020scaled, y_test)}\")"
   ]
  },
  {
   "cell_type": "code",
   "execution_count": 56,
   "id": "621b16e4",
   "metadata": {},
   "outputs": [
    {
     "data": {
      "text/plain": [
       "array([[1762,  589],\n",
       "       [ 541, 1810]])"
      ]
     },
     "execution_count": 56,
     "metadata": {},
     "output_type": "execute_result"
    }
   ],
   "source": [
    "from sklearn.metrics import confusion_matrix\n",
    "\n",
    "y_true = y_test\n",
    "y_pred = classifier.predict(X_test_2020scaled)\n",
    "confusion_matrix(y_true, y_pred)"
   ]
  },
  {
   "cell_type": "code",
   "execution_count": 57,
   "id": "f2f420ac",
   "metadata": {},
   "outputs": [
    {
     "name": "stdout",
     "output_type": "stream",
     "text": [
      "Accuracy: 0.7596767333049766\n"
     ]
    }
   ],
   "source": [
    "tn, fp, fn, tp = confusion_matrix(y_true, y_pred).ravel()\n",
    "accuracy = (tp + tn) / (tp + fp + tn + fn) \n",
    "print(f\"Accuracy: {accuracy}\")"
   ]
  },
  {
   "cell_type": "code",
   "execution_count": 58,
   "id": "5450a064",
   "metadata": {},
   "outputs": [],
   "source": [
    "from matplotlib import pyplot as plt\n",
    "from sklearn.datasets import make_classification\n",
    "import numpy as np\n",
    "import pandas as pd\n",
    "from sklearn.ensemble import RandomForestClassifier\n",
    "from sklearn.linear_model import LogisticRegression\n",
    "from sklearn.model_selection import train_test_split\n",
    "from sklearn.preprocessing import StandardScaler"
   ]
  },
  {
   "cell_type": "code",
   "execution_count": 59,
   "id": "4e353aad",
   "metadata": {},
   "outputs": [
    {
     "name": "stdout",
     "output_type": "stream",
     "text": [
      "Training Score: 1.0\n",
      "Testing Score: 0.6439812845597618\n"
     ]
    }
   ],
   "source": [
    "clf = RandomForestClassifier(random_state=1, n_estimators=500).fit(X_train_2019scaled, y_train)\n",
    "print(f'Training Score: {clf.score(X_train_2019scaled, y_train)}')\n",
    "print(f'Testing Score: {clf.score(X_test_2020scaled, y_test)}')"
   ]
  },
  {
   "cell_type": "code",
   "execution_count": 60,
   "id": "9ad8123d",
   "metadata": {},
   "outputs": [
    {
     "name": "stdout",
     "output_type": "stream",
     "text": [
      "[1.61936400e-02 3.38204293e-02 3.06867974e-02 1.44132520e-02\n",
      " 1.53403521e-02 2.97039970e-03 4.19684115e-03 8.52639566e-03\n",
      " 1.34011600e-03 1.49794045e-02 1.14806151e-02 2.95126314e-02\n",
      " 2.96423255e-02 4.53810478e-02 4.52153533e-02 5.32710182e-02\n",
      " 4.75192818e-02 1.71819289e-02 0.00000000e+00 0.00000000e+00\n",
      " 1.01845843e-01 6.62760338e-04 0.00000000e+00 0.00000000e+00\n",
      " 4.22370045e-03 1.34809762e-02 4.53726683e-03 6.67364447e-03\n",
      " 3.97499067e-03 6.12669840e-03 1.17797351e-02 1.33496386e-02\n",
      " 1.40556883e-02 5.03286449e-03 7.88326739e-03 1.53783773e-02\n",
      " 1.31396255e-02 1.54051334e-02 6.03171195e-03 6.77005919e-03\n",
      " 7.80891532e-03 9.64914400e-03 1.40513366e-02 1.55344031e-02\n",
      " 1.41277359e-02 2.83432087e-04 0.00000000e+00 1.54198240e-02\n",
      " 1.65154545e-02 1.20253520e-02 9.95644904e-03 5.70186452e-03\n",
      " 1.29315697e-02 1.20098895e-02 3.55781234e-03 7.10679177e-03\n",
      " 7.86684410e-03 7.11918454e-03 8.76864617e-03 1.04145566e-02\n",
      " 8.36143398e-03 1.00202334e-02 7.82922578e-03 8.58946961e-03\n",
      " 0.00000000e+00 0.00000000e+00 1.01142044e-03 7.05817658e-03\n",
      " 9.15297889e-03 7.51197360e-03 1.36301137e-03 0.00000000e+00\n",
      " 1.41020846e-02 1.31736651e-02 1.50417685e-02 1.34234481e-02\n",
      " 1.77207062e-04 1.75436977e-03 1.58043032e-03 1.70080609e-03\n",
      " 1.97734161e-03 1.95305664e-03 1.57175899e-03 0.00000000e+00\n",
      " 1.12506274e-03 1.05267658e-03 1.38523575e-03 1.48839707e-03\n",
      " 2.29838380e-03 2.37613335e-03 4.72327652e-05]\n"
     ]
    },
    {
     "data": {
      "image/png": "[encoded data removed]",
      "text/plain": [
       "<Figure size 432x288 with 1 Axes>"
      ]
     },
     "metadata": {
      "needs_background": "light"
     },
     "output_type": "display_data"
    }
   ],
   "source": [
    "features = clf.feature_importances_\n",
    "print(features)\n",
    "plt.bar(x = range(len(features)), height=features)\n",
    "plt.show()"
   ]
  },
  {
   "cell_type": "code",
   "execution_count": null,
   "id": "0df92730",
   "metadata": {},
   "outputs": [],
   "source": []
  }
 ],
 "metadata": {
  "kernelspec": {
   "display_name": "Python 3.8.11 64-bit ('PythonData': conda)",
   "language": "python",
   "name": "python3811jvsc74a57bd04e3a95a01d01831068103a08520b41d5728c33724270ee593b5a02c45c1f83e5"
  },
  "language_info": {
   "codemirror_mode": {
    "name": "ipython",
    "version": 3
   },
   "file_extension": ".py",
   "mimetype": "text/x-python",
   "name": "python",
   "nbconvert_exporter": "python",
   "pygments_lexer": "ipython3",
   "version": "3.8.11"
  }
 },
 "nbformat": 4,
 "nbformat_minor": 5
}
